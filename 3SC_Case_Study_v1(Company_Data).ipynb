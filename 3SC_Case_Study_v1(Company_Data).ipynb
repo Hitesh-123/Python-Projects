{
 "cells": [
  {
   "cell_type": "code",
   "execution_count": 14,
   "id": "d68fab8d",
   "metadata": {},
   "outputs": [],
   "source": [
    "# Loading the dataset\n",
    "import pandas as pd\n",
    "from sklearn.ensemble import RandomForestRegressor"
   ]
  },
  {
   "cell_type": "code",
   "execution_count": 15,
   "id": "b792b46c",
   "metadata": {},
   "outputs": [],
   "source": [
    "# Loading the dataset\n",
    "df = pd.read_csv('Company_Data.csv')"
   ]
  },
  {
   "cell_type": "code",
   "execution_count": 16,
   "id": "149f6bee",
   "metadata": {},
   "outputs": [
    {
     "data": {
      "text/plain": [
       "Sales          0\n",
       "CompPrice      0\n",
       "Income         0\n",
       "Advertising    0\n",
       "Population     0\n",
       "Price          0\n",
       "ShelveLoc      0\n",
       "Age            0\n",
       "Education      0\n",
       "Urban          0\n",
       "US             0\n",
       "dtype: int64"
      ]
     },
     "execution_count": 16,
     "metadata": {},
     "output_type": "execute_result"
    }
   ],
   "source": [
    "# Checking the null values in the data\n",
    "df.isnull().sum()"
   ]
  },
  {
   "cell_type": "code",
   "execution_count": 17,
   "id": "fbe7161c",
   "metadata": {},
   "outputs": [],
   "source": [
    "# Separating the features and the target variable\n",
    "X = df.drop('Sales', axis=1)\n",
    "y = df['Sales']"
   ]
  },
  {
   "cell_type": "code",
   "execution_count": 22,
   "id": "e8f51c25",
   "metadata": {},
   "outputs": [],
   "source": [
    "# Identifying the columns with non-numeric values\n",
    "non_numeric_cols = X.select_dtypes(exclude='number').columns"
   ]
  },
  {
   "cell_type": "code",
   "execution_count": 23,
   "id": "1682c742",
   "metadata": {},
   "outputs": [
    {
     "name": "stdout",
     "output_type": "stream",
     "text": [
      "Column 'ShelveLoc': ['Bad' 'Good' 'Medium']\n",
      "Column 'Urban': ['Yes' 'No']\n",
      "Column 'US': ['Yes' 'No']\n"
     ]
    }
   ],
   "source": [
    "# Found the categorical features present in the dataset\n",
    "for col in non_numeric_cols:\n",
    "    unique_values = X[col].unique()\n",
    "    print(f\"Column '{col}': {unique_values}\")"
   ]
  },
  {
   "cell_type": "code",
   "execution_count": 24,
   "id": "f4381970",
   "metadata": {},
   "outputs": [],
   "source": [
    "# Based on the unique values, decided on an appropriate strategy to handle non-numeric values (removed the rows with non-numeric values)\n",
    "X = X.dropna(subset=non_numeric_cols)\n",
    "y = y[X.index]"
   ]
  },
  {
   "cell_type": "code",
   "execution_count": 25,
   "id": "96036249",
   "metadata": {},
   "outputs": [],
   "source": [
    "# importing the required library\n",
    "from sklearn.preprocessing import LabelEncoder\n",
    "# Converting non-numeric values to numeric representations\n",
    "for col in non_numeric_cols:\n",
    "    le = LabelEncoder()\n",
    "    X[col] = le.fit_transform(X[col].astype(str))"
   ]
  },
  {
   "cell_type": "code",
   "execution_count": 26,
   "id": "29fb4e28",
   "metadata": {},
   "outputs": [],
   "source": [
    "# One-hot encoding on categorical variables:\n",
    "X = pd.get_dummies(X, columns=non_numeric_cols, drop_first=True)"
   ]
  },
  {
   "cell_type": "markdown",
   "id": "71383f31",
   "metadata": {},
   "source": [
    "# Using RandomForest which is an bagging ensemble method is for Feature Selection"
   ]
  },
  {
   "cell_type": "code",
   "execution_count": 27,
   "id": "d61514c4",
   "metadata": {},
   "outputs": [],
   "source": [
    "# Initialize the Random Forest regressor\n",
    "rf = RandomForestRegressor()"
   ]
  },
  {
   "cell_type": "code",
   "execution_count": 28,
   "id": "f2f53bb1",
   "metadata": {},
   "outputs": [
    {
     "data": {
      "text/plain": [
       "RandomForestRegressor()"
      ]
     },
     "execution_count": 28,
     "metadata": {},
     "output_type": "execute_result"
    }
   ],
   "source": [
    "# Fit the model\n",
    "rf.fit(X, y)"
   ]
  },
  {
   "cell_type": "code",
   "execution_count": 29,
   "id": "e405bfbb",
   "metadata": {},
   "outputs": [],
   "source": [
    "# Get feature importances\n",
    "feature_importances = rf.feature_importances_"
   ]
  },
  {
   "cell_type": "code",
   "execution_count": 30,
   "id": "c7e2810a",
   "metadata": {},
   "outputs": [],
   "source": [
    "# Create a dataframe to display the feature importances\n",
    "importance_df = pd.DataFrame({'Feature': X.columns, 'Importance': feature_importances})\n",
    "importance_df = importance_df.sort_values(by='Importance', ascending=False)"
   ]
  },
  {
   "cell_type": "code",
   "execution_count": 31,
   "id": "744da2f7",
   "metadata": {},
   "outputs": [
    {
     "name": "stdout",
     "output_type": "stream",
     "text": [
      "        Feature  Importance\n",
      "4         Price    0.286122\n",
      "7   ShelveLoc_1    0.249022\n",
      "0     CompPrice    0.109614\n",
      "5           Age    0.094272\n",
      "2   Advertising    0.076186\n",
      "1        Income    0.056458\n",
      "8   ShelveLoc_2    0.055525\n",
      "3    Population    0.034821\n",
      "6     Education    0.026255\n",
      "10         US_1    0.006461\n",
      "9       Urban_1    0.005262\n"
     ]
    }
   ],
   "source": [
    "# Get the important features\n",
    "print(importance_df)"
   ]
  },
  {
   "cell_type": "markdown",
   "id": "6056610e",
   "metadata": {},
   "source": [
    "<!-- Price (Importance: 0.286122):\n",
    "\n",
    "This feature is highly important according to the model.\n",
    "It indicates the price of the product.\n",
    "A higher importance suggests that variations in the price have a significant impact on sales.\n",
    "ShelveLoc_1 (Importance: 0.249022):\n",
    "\n",
    "This feature is also highly important.\n",
    "It represents a categorical variable related to the shelving location of the product.\n",
    "The importance suggests that different shelving locations have a substantial influence on sales.\n",
    "CompPrice (Importance: 0.109614):\n",
    "\n",
    "This feature measures the price competitors charge for similar products.\n",
    "It is moderately important in determining sales.\n",
    "Age (Importance: 0.094272):\n",
    "\n",
    "This feature represents the age of the product.\n",
    "It has a moderate impact on sales, indicating that newer or older products may have different sales patterns.\n",
    "Advertising (Importance: 0.076186):\n",
    "\n",
    "This feature reflects the advertising budget for the product.\n",
    "It is moderately important, suggesting that the amount spent on advertising influences sales.\n",
    "Income (Importance: 0.056458):\n",
    "\n",
    "This feature represents the income level of the consumers.\n",
    "It has a moderate impact on sales, indicating that consumer income plays a role in purchasing decisions.\n",
    "ShelveLoc_2 (Importance: 0.055525):\n",
    "\n",
    "This is another categorical variable related to the shelving location.\n",
    "Its importance suggests that different shelving locations have varying effects on sales.\n",
    "Population (Importance: 0.034821):\n",
    "\n",
    "This feature represents the population size of the area where the product is sold.\n",
    "It has a relatively lower importance compared to other features.\n",
    "Education (Importance: 0.026255):\n",
    "\n",
    "This feature reflects the education level of consumers.\n",
    "It has a relatively lower importance, indicating that education level has a less significant impact on sales.\n",
    "US_1 (Importance: 0.006461):\n",
    "\n",
    "This is a binary variable indicating whether the product is manufactured in the United States or not.\n",
    "It has a relatively low importance compared to other features.\n",
    "Urban_1 (Importance: 0.00526):\n",
    "\n",
    "This is a binary variable indicating whether the product is sold in an urban area or not.\n",
    "It has the lowest importance among all the features. -->"
   ]
  },
  {
   "cell_type": "markdown",
   "id": "696eb983",
   "metadata": {},
   "source": [
    "# Price (Importance: 0.286122):\n",
    "\n",
    "# This feature is highly important according to the model.\n",
    "# It indicates the price of the product.\n",
    "# A higher importance suggests that variations in the price have a significant impact on sales.\n",
    "\n",
    "# ShelveLoc_1 (Importance: 0.249022):\n",
    "\n",
    "# This feature is also highly important.\n",
    "# It represents a categorical variable related to the shelving location of the product.\n",
    "# The importance suggests that different shelving locations have a substantial influence on sales.\n",
    "# CompPrice (Importance: 0.109614):\n",
    "\n",
    "# This feature measures the price competitors charge for similar products.\n",
    "# It is moderately important in determining sales.\n",
    "\n",
    "# Age (Importance: 0.094272):\n",
    "\n",
    "# This feature represents the age of the product.\n",
    "# It has a moderate impact on sales, indicating that newer or older products may have different sales patterns.\n",
    "# Advertising (Importance: 0.076186):\n",
    "\n",
    "# This feature reflects the advertising budget for the product.\n",
    "# It is moderately important, suggesting that the amount spent on advertising influences sales.\n",
    "\n",
    "# Income (Importance: 0.056458):\n",
    "\n",
    "# This feature represents the income level of the consumers.\n",
    "# It has a moderate impact on sales, indicating that consumer income plays a role in purchasing decisions.\n",
    "\n",
    "# ShelveLoc_2 (Importance: 0.055525):\n",
    "\n",
    "# This is another categorical variable related to the shelving location.\n",
    "# Its importance suggests that different shelving locations have varying effects on sales.\n",
    "# Population (Importance: 0.034821):\n",
    "\n",
    "# This feature represents the population size of the area where the product is sold.\n",
    "# It has a relatively lower importance compared to other features.\n",
    "\n",
    "# Education (Importance: 0.026255):\n",
    "\n",
    "# This feature reflects the education level of consumers.\n",
    "# It has a relatively lower importance, indicating that education level has a less significant impact on sales.\n",
    "\n",
    "# US_1 (Importance: 0.006461):\n",
    "\n",
    "# This is a binary variable indicating whether the product is manufactured in the United States or not.\n",
    "# It has a relatively low importance compared to other features.\n",
    "\n",
    "# Urban_1 (Importance: 0.00526):\n",
    "\n",
    "# This is a binary variable indicating whether the product is sold in an urban area or not.\n",
    "# It has the lowest importance among all the features."
   ]
  },
  {
   "cell_type": "code",
   "execution_count": null,
   "id": "2e71f5d8",
   "metadata": {},
   "outputs": [],
   "source": []
  }
 ],
 "metadata": {
  "kernelspec": {
   "display_name": "Python 3 (ipykernel)",
   "language": "python",
   "name": "python3"
  },
  "language_info": {
   "codemirror_mode": {
    "name": "ipython",
    "version": 3
   },
   "file_extension": ".py",
   "mimetype": "text/x-python",
   "name": "python",
   "nbconvert_exporter": "python",
   "pygments_lexer": "ipython3",
   "version": "3.9.13"
  }
 },
 "nbformat": 4,
 "nbformat_minor": 5
}
